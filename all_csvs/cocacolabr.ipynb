{
 "cells": [
  {
   "cell_type": "markdown",
   "metadata": {},
   "source": [
    "# Análise dos Posts da cocacolabr"
   ]
  },
  {
   "cell_type": "code",
   "execution_count": 12,
   "metadata": {
    "collapsed": true
   },
   "outputs": [],
   "source": [
    "%matplotlib inline\n",
    "import pandas as pd\n",
    "import seaborn as sns\n",
    "import matplotlib.pyplot as plt\n",
    "from pandas.tools.plotting import parallel_coordinates\n",
    "import glob\n",
    "\n",
    "plt.rcParams[\"figure.figsize\"] = (12, 9)"
   ]
  },
  {
   "cell_type": "code",
   "execution_count": 17,
   "metadata": {
    "collapsed": true
   },
   "outputs": [],
   "source": [
    "all_csv_names = glob.glob('csv_marcio_cocacolabr/*.csv')\n",
    "\n",
    "\n",
    "dfs = []\n",
    "for csv_name in all_csv_names:\n",
    "    dfs.append(pd.read_csv(csv_name))\n",
    "    \n",
    "df = pd.concat(dfs, ignore_index=True)\n",
    "    "
   ]
  },
  {
   "cell_type": "code",
   "execution_count": 85,
   "metadata": {},
   "outputs": [],
   "source": [
    "reactions_df = pd.DataFrame([{'type': 'ANGRY', 'typecount': 1432},\n",
    "                             {'type': 'HAHA', 'typecount': 3601},\n",
    "                             {'type': 'LIKE', 'typecount': 509664},\n",
    "                             {'type': 'LOVE', 'typecount': 19423},\n",
    "                             {'type': 'PRIDE', 'typecount': 283},\n",
    "                             {'type': 'SAD', 'typecount': 449},\n",
    "                             {'type': 'THANKFUL', 'typecount': 2201},\n",
    "                             {'type': 'WOW', 'typecount': 3705}])"
   ]
  },
  {
   "cell_type": "code",
   "execution_count": 89,
   "metadata": {},
   "outputs": [],
   "source": [
    "reactions_count = reactions_df.groupby('type').sum()"
   ]
  },
  {
   "cell_type": "code",
   "execution_count": 94,
   "metadata": {
    "scrolled": true
   },
   "outputs": [],
   "source": [
    "comments_authored_by_a_reactor_by_reaction_type = df.groupby('type').count()\n",
    "engagement_ratio_by_reaction_type = comments_authored_by_a_reactor_by_reaction_type['from_id'] / reactions_count['typecount']"
   ]
  },
  {
   "cell_type": "code",
   "execution_count": 104,
   "metadata": {},
   "outputs": [
    {
     "data": {
      "text/html": [
       "<div>\n",
       "<table border=\"1\" class=\"dataframe\">\n",
       "  <thead>\n",
       "    <tr style=\"text-align: right;\">\n",
       "      <th></th>\n",
       "      <th>Ratio</th>\n",
       "    </tr>\n",
       "    <tr>\n",
       "      <th>type</th>\n",
       "      <th></th>\n",
       "    </tr>\n",
       "  </thead>\n",
       "  <tbody>\n",
       "    <tr>\n",
       "      <th>ANGRY</th>\n",
       "      <td>0.131285</td>\n",
       "    </tr>\n",
       "    <tr>\n",
       "      <th>SAD</th>\n",
       "      <td>0.060134</td>\n",
       "    </tr>\n",
       "    <tr>\n",
       "      <th>HAHA</th>\n",
       "      <td>0.032491</td>\n",
       "    </tr>\n",
       "    <tr>\n",
       "      <th>WOW</th>\n",
       "      <td>0.019973</td>\n",
       "    </tr>\n",
       "    <tr>\n",
       "      <th>LOVE</th>\n",
       "      <td>0.018895</td>\n",
       "    </tr>\n",
       "    <tr>\n",
       "      <th>THANKFUL</th>\n",
       "      <td>0.006815</td>\n",
       "    </tr>\n",
       "    <tr>\n",
       "      <th>LIKE</th>\n",
       "      <td>0.006010</td>\n",
       "    </tr>\n",
       "    <tr>\n",
       "      <th>PRIDE</th>\n",
       "      <td>0.003534</td>\n",
       "    </tr>\n",
       "    <tr>\n",
       "      <th>NONE</th>\n",
       "      <td>NaN</td>\n",
       "    </tr>\n",
       "  </tbody>\n",
       "</table>\n",
       "</div>"
      ],
      "text/plain": [
       "             Ratio\n",
       "type              \n",
       "ANGRY     0.131285\n",
       "SAD       0.060134\n",
       "HAHA      0.032491\n",
       "WOW       0.019973\n",
       "LOVE      0.018895\n",
       "THANKFUL  0.006815\n",
       "LIKE      0.006010\n",
       "PRIDE     0.003534\n",
       "NONE           NaN"
      ]
     },
     "execution_count": 104,
     "metadata": {},
     "output_type": "execute_result"
    }
   ],
   "source": [
    "pd.DataFrame(engagement_ratio_by_reaction_type.sort_values(ascending=False), columns=['Ratio'])"
   ]
  }
 ],
 "metadata": {
  "kernelspec": {
   "display_name": "Python 3",
   "language": "python",
   "name": "python3"
  },
  "language_info": {
   "codemirror_mode": {
    "name": "ipython",
    "version": 3
   },
   "file_extension": ".py",
   "mimetype": "text/x-python",
   "name": "python",
   "nbconvert_exporter": "python",
   "pygments_lexer": "ipython3",
   "version": "3.6.0"
  }
 },
 "nbformat": 4,
 "nbformat_minor": 2
}
